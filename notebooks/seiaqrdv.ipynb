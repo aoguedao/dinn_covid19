{
 "cells": [
  {
   "cell_type": "markdown",
   "id": "dd6aee1f-767c-4181-8500-6e9708c540ca",
   "metadata": {
    "id": "dd6aee1f-767c-4181-8500-6e9708c540ca"
   },
   "source": [
    "# SEIAQRDV"
   ]
  },
  {
   "cell_type": "code",
   "execution_count": 1,
   "id": "cd015f4c-d106-4ae6-94fb-55361fed119e",
   "metadata": {
    "colab": {
     "base_uri": "https://localhost:8080/"
    },
    "id": "cd015f4c-d106-4ae6-94fb-55361fed119e",
    "outputId": "0ea22cde-1a79-4259-e7f4-97778ae6fa7d"
   },
   "outputs": [
    {
     "name": "stderr",
     "output_type": "stream",
     "text": [
      "Using backend: tensorflow.compat.v1\n",
      "\n"
     ]
    },
    {
     "name": "stdout",
     "output_type": "stream",
     "text": [
      "WARNING:tensorflow:From /home/aoguedao/mambaforge/envs/pinn/lib/python3.9/site-packages/tensorflow/python/compat/v2_compat.py:107: disable_resource_variables (from tensorflow.python.ops.variable_scope) is deprecated and will be removed in a future version.\n",
      "Instructions for updating:\n",
      "non-resource variables are not supported in the long term\n"
     ]
    },
    {
     "name": "stderr",
     "output_type": "stream",
     "text": [
      "2022-07-11 23:06:39.722313: I tensorflow/stream_executor/cuda/cuda_gpu_executor.cc:961] could not open file to read NUMA node: /sys/bus/pci/devices/0000:01:00.0/numa_node\n",
      "Your kernel may have been built without NUMA support.\n",
      "2022-07-11 23:06:39.786672: I tensorflow/stream_executor/cuda/cuda_gpu_executor.cc:961] could not open file to read NUMA node: /sys/bus/pci/devices/0000:01:00.0/numa_node\n",
      "Your kernel may have been built without NUMA support.\n",
      "2022-07-11 23:06:39.787071: I tensorflow/stream_executor/cuda/cuda_gpu_executor.cc:961] could not open file to read NUMA node: /sys/bus/pci/devices/0000:01:00.0/numa_node\n",
      "Your kernel may have been built without NUMA support.\n"
     ]
    },
    {
     "name": "stdout",
     "output_type": "stream",
     "text": [
      "Enable just-in-time compilation with XLA.\n",
      "\n",
      "WARNING:tensorflow:From /home/aoguedao/mambaforge/envs/pinn/lib/python3.9/site-packages/deepxde/nn/initializers.py:118: The name tf.keras.initializers.he_normal is deprecated. Please use tf.compat.v1.keras.initializers.he_normal instead.\n",
      "\n"
     ]
    }
   ],
   "source": [
    "import numpy as np\n",
    "import pandas as pd\n",
    "import matplotlib.pyplot as plt \n",
    "import deepxde as dde\n",
    "import seaborn as sns\n",
    "\n",
    "from deepxde.backend import tf\n",
    "from scipy.integrate import odeint\n",
    "\n",
    "sns.set_theme(style=\"darkgrid\")\n",
    "sns.set(rc={\"figure.facecolor\":\"white\"})\n",
    "\n",
    "# dde.config.real.set_float64()\n",
    "%matplotlib inline"
   ]
  },
  {
   "cell_type": "markdown",
   "id": "045406f9-6db4-4582-9713-b48af75cd7a4",
   "metadata": {},
   "source": [
    "## Model"
   ]
  },
  {
   "cell_type": "markdown",
   "id": "5fd20610-dcab-4c9b-9b74-de320377250a",
   "metadata": {
    "id": "5fd20610-dcab-4c9b-9b74-de320377250a"
   },
   "source": [
    "$$\n",
    "\\begin{aligned}\n",
    "\\dot{S} &= - \\frac{\\beta}{N} S (I^A + I^S) - \\alpha S \\\\\n",
    "\\dot{E} &= \\frac{\\beta}{N} S (I^A + I^S) - \\sigma E \\\\\n",
    "\\dot{I^S} &= p \\sigma E + (1 - \\nu ) \\omega I^A - \\xi I^S \\\\\n",
    "\\dot{I^A} &= (1 - p) \\sigma E - \\omega I^A \\\\\n",
    "\\dot{Q} &= \\xi I^S - \\gamma Q \\\\\n",
    "\\dot{R} &= \\nu \\omega I^A + (1 - q) \\gamma Q \\\\\n",
    "\\dot{D} &= q \\gamma Q \\\\\n",
    "\\dot{V} &= \\alpha S \n",
    "\\end{aligned}\n",
    "$$"
   ]
  },
  {
   "cell_type": "markdown",
   "id": "EIILS9Kso7nM",
   "metadata": {
    "id": "EIILS9Kso7nM"
   },
   "source": [
    "- Susceptible (S): Individuals who have not been infected with COVID-19 and have not isolated themselves\n",
    "from the population\n",
    "- Exposed (E): Individuals in the incubation period of disease progression\n",
    "- Asymptomatic (IA): Infectious individuals who do not show symptoms of COVID-19\n",
    "- Symptomatic (IS): Infectious individuals who show symptoms of COVID-19\n",
    "- Hospitalized (H): Infectious individuals, hospitalized with symptoms of COVID-19\n",
    "- Quarantine (Q): Symptomatic infectious individuals who are isolated\n",
    "- Recovered (R): Individuals who survived COVID-19\n",
    "- Dead (D): Individuals who did not survive COVID-19"
   ]
  },
  {
   "cell_type": "markdown",
   "id": "6ec3fe1e-d3b0-4075-a6a3-89716367d887",
   "metadata": {
    "id": "6ec3fe1e-d3b0-4075-a6a3-89716367d887"
   },
   "source": [
    "- $\\beta$ Transmission Rate\n",
    "- $\\sigma$ Rate at which Exposed individuals become Infected\n",
    "- $\\omega$: Rate at which Asymptomatic individuals become Symptomatic or Recovered\n",
    "- $\\xi$: Rate at which Symptomatic individuals become Quarantined\n",
    "- $\\gamma$: Rate at which Quarantined individuals become Hospitalized or Recovered\n",
    "- $p$: Fraction of Symptomatic individuals out of Exposed individuals\n",
    "- $q$: Fraction of Hospitalized individuals out of Quarantined individuals\n",
    "- $\\nu$: Fraction of Recovered individuals out of Asymptomatic individuals\n",
    "- $\\alpha$: Vaccination Rate"
   ]
  },
  {
   "cell_type": "markdown",
   "id": "c9509f26-0090-4869-bc1a-d8f2da9236af",
   "metadata": {
    "id": "c9509f26-0090-4869-bc1a-d8f2da9236af",
    "tags": []
   },
   "source": [
    "## Initial Conditions"
   ]
  },
  {
   "cell_type": "code",
   "execution_count": 2,
   "id": "9c5d92b8-33f0-4fb0-a0ee-018e1131d31c",
   "metadata": {
    "id": "9c5d92b8-33f0-4fb0-a0ee-018e1131d31c"
   },
   "outputs": [],
   "source": [
    "N = 1e7\n",
    "beta = 0.5\n",
    "sigma = 1 / 6\n",
    "omega = 1 / 14\n",
    "xi = 0.5\n",
    "gamma = 1 / 5\n",
    "p = 0.6\n",
    "q = 0.19\n",
    "nu = 0.5\n",
    "alpha = 0.01\n",
    "parameters_real = [beta, sigma, omega, xi, gamma, p, q, nu, alpha]\n",
    "\n",
    "t = np.arange(0, 300, 10)[:, np.newaxis]"
   ]
  },
  {
   "cell_type": "markdown",
   "id": "e064a354-360d-41e6-bb33-9e92682f0029",
   "metadata": {
    "id": "e064a354-360d-41e6-bb33-9e92682f0029"
   },
   "source": [
    "## Generate Data"
   ]
  },
  {
   "cell_type": "code",
   "execution_count": 3,
   "id": "12b2ca3f-c763-4e2d-b93c-56e08f3ec3d7",
   "metadata": {
    "id": "12b2ca3f-c763-4e2d-b93c-56e08f3ec3d7"
   },
   "outputs": [],
   "source": [
    "def seiaqrdv_model(\n",
    "    t,\n",
    "    N,\n",
    "    beta,\n",
    "    sigma,\n",
    "    omega,\n",
    "    xi,\n",
    "    gamma,\n",
    "    p,\n",
    "    q,\n",
    "    nu,\n",
    "    alpha\n",
    "):\n",
    "    def func(y, t):\n",
    "        S, E, I, A, Q, R, D, V = y\n",
    "        dS = - beta / N * S * (I + A) - alpha * S\n",
    "        dE = beta / N * S * (I + A) - sigma * E\n",
    "        dI = p * sigma * E + (1 - nu) * omega * A - xi * I\n",
    "        dA =  (1 - p) * sigma * E - omega * A\n",
    "        dQ = xi * I - gamma * Q\n",
    "        dR = nu * omega * A + (1 - q) * gamma * Q\n",
    "        dD = q * gamma * Q\n",
    "        dV = alpha * S\n",
    "        return [dS, dE, dI, dA, dQ, dR, dD, dV]\n",
    "    \n",
    "    S_0 = N - 1000\n",
    "    E_0 = 1000\n",
    "    I_0 = 0\n",
    "    A_0 = 0\n",
    "    Q_0 = 0\n",
    "    R_0 = 0\n",
    "    D_0 = 0\n",
    "    V_0 = 0\n",
    "    y0 = [S_0, E_0, I_0, A_0, Q_0, R_0, D_0, V_0]\n",
    "    return odeint(func, y0, t)"
   ]
  },
  {
   "cell_type": "code",
   "execution_count": 4,
   "id": "52e619a9-f058-4409-a7d4-33f893d00612",
   "metadata": {
    "id": "52e619a9-f058-4409-a7d4-33f893d00612"
   },
   "outputs": [],
   "source": [
    "y = seiaqrdv_model(np.ravel(t), N, beta, sigma, omega, xi, gamma, p, q, nu, alpha)\n",
    "y_noise1 = y + np.random.normal(loc=0, scale=y.std(axis=0), size=y.shape) * 0.01\n",
    "y_noise5 = y + np.random.normal(loc=0, scale=y.std(axis=0), size=y.shape) * 0.05\n",
    "y_noise10 = y + np.random.normal(loc=0, scale=y.std(axis=0), size=y.shape) * 0.1"
   ]
  },
  {
   "cell_type": "code",
   "execution_count": 5,
   "id": "2e0008db-d626-409a-bbff-687a71cde1c3",
   "metadata": {
    "colab": {
     "base_uri": "https://localhost:8080/",
     "height": 279
    },
    "id": "2e0008db-d626-409a-bbff-687a71cde1c3",
    "outputId": "b8de9795-2fcc-430f-c10e-e2caee031004"
   },
   "outputs": [
    {
     "data": {
      "image/png": "[encoded data removed]",
      "text/plain": [
       "<Figure size 720x288 with 1 Axes>"
      ]
     },
     "metadata": {
      "needs_background": "light"
     },
     "output_type": "display_data"
    }
   ],
   "source": [
    "names = list(\"SEIAQRDV\")\n",
    "fig, ax = plt.subplots(figsize=(10, 4))\n",
    "for v, name in zip(y.T, names):\n",
    "    ax.plot(np.ravel(t), v, label=name)\n",
    "plt.legend()\n",
    "plt.show()"
   ]
  },
  {
   "cell_type": "markdown",
   "id": "e37850d8-a3da-418f-bd40-617bf10675f0",
   "metadata": {},
   "source": [
    "## DINN"
   ]
  },
  {
   "cell_type": "code",
   "execution_count": 6,
   "id": "83c3a008-0075-4b00-9855-78863db0f288",
   "metadata": {
    "id": "83c3a008-0075-4b00-9855-78863db0f288"
   },
   "outputs": [],
   "source": [
    "def dinn(data_t, data_y, N):    \n",
    "    \n",
    "    # Variables\n",
    "    beta = tf.math.sigmoid(dde.Variable(0.1))\n",
    "    sigma = tf.math.sigmoid(dde.Variable(0.1))\n",
    "    omega = tf.math.sigmoid(dde.Variable(0.1))\n",
    "    xi = tf.math.sigmoid(dde.Variable(0.1))\n",
    "    gamma = tf.math.sigmoid(dde.Variable(0.1))\n",
    "    p = tf.math.sigmoid(dde.Variable(0.1))\n",
    "    q = tf.math.sigmoid(dde.Variable(0.1))\n",
    "    nu = tf.math.sigmoid(dde.Variable(0.1))\n",
    "    alpha = tf.math.sigmoid(dde.Variable(0.1))\n",
    "    variable_list = [beta, sigma, omega, xi, gamma, p, q, nu, alpha]\n",
    "    \n",
    "    # ODE model\n",
    "    def ODE(t, y):\n",
    "        S = y[:, 0:1]\n",
    "        E = y[:, 1:2]\n",
    "        I = y[:, 2:3]\n",
    "        A = y[:, 3:4]\n",
    "        Q = y[:, 4:5]\n",
    "        R = y[:, 5:6]\n",
    "        D = y[:, 6:7]\n",
    "        V = y[:, 7:8]\n",
    "        \n",
    "        dS_t = dde.grad.jacobian(y, t, i=0)\n",
    "        dE_t = dde.grad.jacobian(y, t, i=1)\n",
    "        dI_t = dde.grad.jacobian(y, t, i=2)\n",
    "        dA_t = dde.grad.jacobian(y, t, i=3)\n",
    "        dQ_t = dde.grad.jacobian(y, t, i=4)\n",
    "        dR_t = dde.grad.jacobian(y, t, i=5)\n",
    "        dD_t = dde.grad.jacobian(y, t, i=6)\n",
    "        dV_t = dde.grad.jacobian(y, t, i=7)\n",
    "        \n",
    "        return [\n",
    "            dS_t - (- beta / N * S * (I + A) - alpha * S),\n",
    "            dE_t - (beta / N * S * (I + A) - sigma * E),\n",
    "            dI_t - (p * sigma * E + (1 - nu) * omega * A - xi * I),\n",
    "            dA_t - ( (1 - p) * sigma * E - omega * A),\n",
    "            dQ_t - (xi * I - gamma * Q),\n",
    "            dR_t - (nu * omega * A + (1 - q) * gamma * Q),\n",
    "            dD_t - (q * gamma * Q),\n",
    "            dV_t - (alpha * S),\n",
    "        ]\n",
    "    \n",
    "    # Geometry\n",
    "    geom = dde.geometry.TimeDomain(data_t[0, 0], data_t[-1, 0])\n",
    "    \n",
    "    # Boundaries\n",
    "    def boundary(_, on_initial):\n",
    "        return on_initial\n",
    "    \n",
    "    # Initial conditions\n",
    "    ic_S = dde.icbc.IC(geom, lambda x: N- 1000, boundary, component=0)\n",
    "    ic_E = dde.icbc.IC(geom, lambda x: 1000, boundary, component=1)\n",
    "    ic_I = dde.icbc.IC(geom, lambda x: 0, boundary, component=2)\n",
    "    ic_A = dde.icbc.IC(geom, lambda x: 0, boundary, component=3)\n",
    "    ic_Q = dde.icbc.IC(geom, lambda x: 0, boundary, component=4)\n",
    "    ic_R = dde.icbc.IC(geom, lambda x: 0, boundary, component=5)\n",
    "    ic_D = dde.icbc.IC(geom, lambda x: 0, boundary, component=6)\n",
    "    ic_V = dde.icbc.IC(geom, lambda x: 0, boundary, component=7)\n",
    "\n",
    "    # Train data\n",
    "    observe_S = dde.icbc.PointSetBC(data_t, data_y[:, 0:1], component=0)\n",
    "    observe_E = dde.icbc.PointSetBC(data_t, data_y[:, 1:2], component=1)\n",
    "    observe_I = dde.icbc.PointSetBC(data_t, data_y[:, 2:3], component=2)\n",
    "    observe_A = dde.icbc.PointSetBC(data_t, data_y[:, 3:4], component=3)\n",
    "    observe_Q = dde.icbc.PointSetBC(data_t, data_y[:, 4:5], component=4)\n",
    "    observe_R = dde.icbc.PointSetBC(data_t, data_y[:, 5:6], component=5)\n",
    "    observe_D = dde.icbc.PointSetBC(data_t, data_y[:, 6:7], component=6)\n",
    "    observe_V = dde.icbc.PointSetBC(data_t, data_y[:, 7:8], component=7)\n",
    "    \n",
    "    # Model\n",
    "    data = dde.data.PDE(\n",
    "        geom,\n",
    "        ODE,\n",
    "        [\n",
    "            ic_S,\n",
    "            ic_E,\n",
    "            ic_I,\n",
    "            ic_A,\n",
    "            ic_Q,\n",
    "            ic_R,\n",
    "            ic_D,\n",
    "            ic_V,\n",
    "            observe_S,\n",
    "            observe_E,\n",
    "            observe_I,\n",
    "            observe_A,\n",
    "            observe_Q,\n",
    "            observe_R,\n",
    "            observe_D,\n",
    "            observe_V\n",
    "        ],\n",
    "        num_domain=200,\n",
    "        num_boundary=2,\n",
    "        anchors=data_t,\n",
    "    )\n",
    "    \n",
    "    net = dde.nn.FNN([1] + [128] * 3 + [8], \"relu\", \"Glorot uniform\")\n",
    "    \n",
    "    def feature_transform(t):\n",
    "        t = t / data_t[-1, 0]\n",
    "        return t\n",
    "\n",
    "    # def output_transform(t, y):\n",
    "    #     # return tf.constant([1, 1, 1e2, 1, 1, 1]) * y\n",
    "    #     return tf.abs(y)\n",
    "\n",
    "    net.apply_feature_transform(feature_transform)\n",
    "    # net.apply_output_transform(output_transform)\n",
    "\n",
    "    iterations = 100000\n",
    "    model = dde.Model(data, net)\n",
    "    model.compile(\n",
    "        \"adam\",\n",
    "        lr=1e-3,\n",
    "        loss_weights=8 * [1] + 8 * [1] + 8 * [5],\n",
    "        external_trainable_variables=variable_list\n",
    "    )\n",
    "    variable = dde.callbacks.VariableValue(\n",
    "        variable_list,\n",
    "        period=5000,\n",
    "        filename=\"variables_seiaqrdv.dat\"\n",
    "    )\n",
    "    losshistory, train_state = model.train(\n",
    "        iterations=iterations,\n",
    "        display_every=10000,\n",
    "        callbacks=[variable]\n",
    "      )\n",
    "    dde.saveplot(losshistory, train_state, issave=True, isplot=True)\n",
    "    return model, variable, losshistory, train_state"
   ]
  },
  {
   "cell_type": "code",
   "execution_count": 7,
   "id": "7b764e39-70be-415e-b7e5-f67911aff786",
   "metadata": {
    "colab": {
     "base_uri": "https://localhost:8080/",
     "height": 1000
    },
    "id": "7b764e39-70be-415e-b7e5-f67911aff786",
    "outputId": "e9ca6b6d-12f6-470b-a2d9-88513829e844",
    "tags": []
   },
   "outputs": [
    {
     "name": "stdout",
     "output_type": "stream",
     "text": [
      "Compiling model...\n",
      "Warning: For the backend tensorflow.compat.v1, `external_trainable_variables` is ignored, and all trainable ``tf.Variable`` objects are automatically collected.\n",
      "Building feed-forward neural network...\n",
      "'build' took 0.042884 s\n",
      "\n"
     ]
    },
    {
     "name": "stderr",
     "output_type": "stream",
     "text": [
      "/home/aoguedao/mambaforge/envs/pinn/lib/python3.9/site-packages/skopt/sampler/sobol.py:246: UserWarning: The balance properties of Sobol' points require n to be a power of 2. 0 points have been previously generated, then: n=0+202=202. \n",
      "  warnings.warn(\"The balance properties of Sobol' points require \"\n",
      "/home/aoguedao/mambaforge/envs/pinn/lib/python3.9/site-packages/deepxde/nn/tensorflow_compat_v1/fnn.py:103: UserWarning: `tf.layers.dense` is deprecated and will be removed in a future version. Please use `tf.keras.layers.Dense` instead.\n",
      "  return tf.layers.dense(\n",
      "2022-07-11 23:06:40.996447: I tensorflow/core/platform/cpu_feature_guard.cc:193] This TensorFlow binary is optimized with oneAPI Deep Neural Network Library (oneDNN) to use the following CPU instructions in performance-critical operations:  AVX2 FMA\n",
      "To enable them in other operations, rebuild TensorFlow with the appropriate compiler flags.\n",
      "2022-07-11 23:06:41.000100: I tensorflow/stream_executor/cuda/cuda_gpu_executor.cc:961] could not open file to read NUMA node: /sys/bus/pci/devices/0000:01:00.0/numa_node\n",
      "Your kernel may have been built without NUMA support.\n",
      "2022-07-11 23:06:41.000456: I tensorflow/stream_executor/cuda/cuda_gpu_executor.cc:961] could not open file to read NUMA node: /sys/bus/pci/devices/0000:01:00.0/numa_node\n",
      "Your kernel may have been built without NUMA support.\n",
      "2022-07-11 23:06:41.000709: I tensorflow/stream_executor/cuda/cuda_gpu_executor.cc:961] could not open file to read NUMA node: /sys/bus/pci/devices/0000:01:00.0/numa_node\n",
      "Your kernel may have been built without NUMA support.\n",
      "2022-07-11 23:06:41.897740: I tensorflow/stream_executor/cuda/cuda_gpu_executor.cc:961] could not open file to read NUMA node: /sys/bus/pci/devices/0000:01:00.0/numa_node\n",
      "Your kernel may have been built without NUMA support.\n",
      "2022-07-11 23:06:41.898098: I tensorflow/stream_executor/cuda/cuda_gpu_executor.cc:961] could not open file to read NUMA node: /sys/bus/pci/devices/0000:01:00.0/numa_node\n",
      "Your kernel may have been built without NUMA support.\n",
      "2022-07-11 23:06:41.898123: I tensorflow/core/common_runtime/gpu/gpu_device.cc:1616] Could not identify NUMA node of platform GPU id 0, defaulting to 0.  Your kernel may not have been built with NUMA support.\n",
      "2022-07-11 23:06:41.898527: I tensorflow/stream_executor/cuda/cuda_gpu_executor.cc:961] could not open file to read NUMA node: /sys/bus/pci/devices/0000:01:00.0/numa_node\n",
      "Your kernel may have been built without NUMA support.\n",
      "2022-07-11 23:06:41.898563: W tensorflow/core/common_runtime/gpu/gpu_bfc_allocator.cc:42] Overriding orig_value setting because the TF_FORCE_GPU_ALLOW_GROWTH environment variable is set. Original config value was 0.\n",
      "2022-07-11 23:06:41.898593: I tensorflow/core/common_runtime/gpu/gpu_device.cc:1532] Created device /job:localhost/replica:0/task:0/device:GPU:0 with 5440 MB memory:  -> device: 0, name: NVIDIA GeForce RTX 3070 Laptop GPU, pci bus id: 0000:01:00.0, compute capability: 8.6\n"
     ]
    },
    {
     "name": "stdout",
     "output_type": "stream",
     "text": [
      "'compile' took 2.003242 s\n",
      "\n",
      "Initializing variables...\n"
     ]
    },
    {
     "name": "stderr",
     "output_type": "stream",
     "text": [
      "2022-07-11 23:06:42.976914: I tensorflow/compiler/mlir/mlir_graph_optimization_pass.cc:354] MLIR V1 optimization pass is not enabled\n",
      "2022-07-11 23:06:43.070267: I tensorflow/compiler/xla/service/service.cc:170] XLA service 0x7fa45c0182f0 initialized for platform CUDA (this does not guarantee that XLA will be used). Devices:\n",
      "2022-07-11 23:06:43.070303: I tensorflow/compiler/xla/service/service.cc:178]   StreamExecutor device (0): NVIDIA GeForce RTX 3070 Laptop GPU, Compute Capability 8.6\n",
      "2022-07-11 23:06:43.188611: I tensorflow/core/platform/default/subprocess.cc:304] Start cannot spawn child process: No such file or directory\n",
      "2022-07-11 23:06:43.239725: I tensorflow/compiler/jit/xla_compilation_cache.cc:478] Compiled cluster using XLA!  This line is logged at most once for the lifetime of the process.\n",
      "2022-07-11 23:06:43.324697: I tensorflow/compiler/mlir/tensorflow/utils/dump_mlir_util.cc:263] disabling MLIR crash reproducer, set env var `MLIR_CRASH_REPRODUCER_DIRECTORY` to enable.\n"
     ]
    },
    {
     "name": "stdout",
     "output_type": "stream",
     "text": [
      "Training model...\n",
      "\n",
      "Step      Train loss                                                                                                                                                                                                                                          Test loss                                                                                                                                                                                                                                           Test metric\n",
      "0         [5.82e-04, 2.14e-04, 2.42e-03, 1.86e-04, 3.21e-04, 1.78e-05, 5.07e-05, 5.74e-04, 1.00e+14, 1.00e+06, 0.00e+00, 0.00e+00, 0.00e+00, 0.00e+00, 0.00e+00, 0.00e+00, 8.50e+13, 6.79e+09, 4.68e+08, 5.52e+09, 2.90e+09, 2.64e+12, 8.53e+10, 2.23e+14]    [5.82e-04, 2.14e-04, 2.42e-03, 1.86e-04, 3.21e-04, 1.78e-05, 5.07e-05, 5.74e-04, 1.00e+14, 1.00e+06, 0.00e+00, 0.00e+00, 0.00e+00, 0.00e+00, 0.00e+00, 0.00e+00, 8.50e+13, 6.79e+09, 4.68e+08, 5.52e+09, 2.90e+09, 2.64e+12, 8.53e+10, 2.23e+14]    []  \n",
      "10000     [2.28e+08, 1.40e+05, 4.70e+02, 1.98e+04, 6.01e+02, 8.12e+03, 1.01e+04, 1.03e+08, 3.94e+13, 3.07e+08, 2.43e+07, 2.98e+08, 1.54e+08, 2.33e+11, 7.55e+09, 2.49e+13, 5.05e+13, 4.13e+09, 2.78e+08, 3.17e+09, 1.70e+09, 8.08e+11, 2.60e+10, 2.69e+13]    [2.28e+08, 1.40e+05, 4.70e+02, 1.98e+04, 6.01e+02, 8.12e+03, 1.01e+04, 1.03e+08, 3.94e+13, 3.07e+08, 2.43e+07, 2.98e+08, 1.54e+08, 2.33e+11, 7.55e+09, 2.49e+13, 5.05e+13, 4.13e+09, 2.78e+08, 3.17e+09, 1.70e+09, 8.08e+11, 2.60e+10, 2.69e+13]    []  \n",
      "20000     [8.57e+07, 1.19e+06, 2.49e+05, 1.42e+05, 1.59e+05, 5.70e+06, 6.46e+05, 1.14e+08, 1.95e+10, 2.26e+07, 1.30e+06, 1.03e+07, 3.84e+06, 4.95e+08, 9.03e+05, 4.12e+10, 2.09e+11, 5.04e+08, 1.89e+07, 2.60e+08, 1.38e+08, 2.05e+10, 5.63e+08, 1.95e+11]    [8.57e+07, 1.19e+06, 2.49e+05, 1.42e+05, 1.59e+05, 5.70e+06, 6.46e+05, 1.14e+08, 1.95e+10, 2.26e+07, 1.30e+06, 1.03e+07, 3.84e+06, 4.95e+08, 9.03e+05, 4.12e+10, 2.09e+11, 5.04e+08, 1.89e+07, 2.60e+08, 1.38e+08, 2.05e+10, 5.63e+08, 1.95e+11]    []  \n",
      "30000     [4.71e+06, 9.39e+04, 1.82e+04, 7.08e+04, 6.09e+04, 5.35e+05, 1.94e+04, 5.24e+06, 9.72e+06, 1.59e+02, 2.48e+03, 2.82e+03, 1.13e-01, 2.54e+03, 5.08e+00, 4.49e+06, 3.47e+08, 6.44e+06, 5.58e+05, 4.68e+06, 2.76e+06, 1.17e+08, 2.72e+06, 3.75e+08]    [4.71e+06, 9.39e+04, 1.82e+04, 7.08e+04, 6.09e+04, 5.35e+05, 1.94e+04, 5.24e+06, 9.72e+06, 1.59e+02, 2.48e+03, 2.82e+03, 1.13e-01, 2.54e+03, 5.08e+00, 4.49e+06, 3.47e+08, 6.44e+06, 5.58e+05, 4.68e+06, 2.76e+06, 1.17e+08, 2.72e+06, 3.75e+08]    []  \n",
      "40000     [4.44e+06, 7.16e+04, 7.83e+03, 6.77e+04, 4.43e+04, 5.56e+05, 2.21e+04, 5.00e+06, 6.03e+06, 8.74e+02, 3.08e+03, 3.61e+03, 4.01e+01, 5.79e+02, 3.69e+00, 6.33e+06, 2.80e+08, 4.95e+06, 4.15e+05, 5.34e+06, 2.93e+06, 8.40e+07, 2.67e+06, 3.06e+08]    [4.44e+06, 7.16e+04, 7.83e+03, 6.77e+04, 4.43e+04, 5.56e+05, 2.21e+04, 5.00e+06, 6.03e+06, 8.74e+02, 3.08e+03, 3.61e+03, 4.01e+01, 5.79e+02, 3.69e+00, 6.33e+06, 2.80e+08, 4.95e+06, 4.15e+05, 5.34e+06, 2.93e+06, 8.40e+07, 2.67e+06, 3.06e+08]    []  \n",
      "50000     [4.14e+06, 6.36e+04, 5.65e+03, 6.42e+04, 3.82e+04, 4.95e+05, 1.87e+04, 4.70e+06, 6.00e+06, 9.75e+02, 3.18e+03, 3.97e+03, 3.64e+01, 8.81e+02, 6.45e-01, 6.37e+06, 2.67e+08, 4.15e+06, 3.24e+05, 4.42e+06, 2.38e+06, 7.00e+07, 2.62e+06, 2.95e+08]    [4.14e+06, 6.36e+04, 5.65e+03, 6.42e+04, 3.82e+04, 4.95e+05, 1.87e+04, 4.70e+06, 6.00e+06, 9.75e+02, 3.18e+03, 3.97e+03, 3.64e+01, 8.81e+02, 6.45e-01, 6.37e+06, 2.67e+08, 4.15e+06, 3.24e+05, 4.42e+06, 2.38e+06, 7.00e+07, 2.62e+06, 2.95e+08]    []  \n",
      "60000     [4.07e+06, 5.04e+04, 4.43e+03, 4.21e+04, 2.39e+04, 3.94e+05, 1.64e+04, 4.52e+06, 5.98e+06, 1.24e+03, 3.21e+03, 4.01e+03, 3.55e+01, 1.01e+03, 1.49e+01, 6.36e+06, 2.65e+08, 2.88e+06, 2.12e+05, 2.48e+06, 1.36e+06, 5.87e+07, 2.29e+06, 2.92e+08]    [4.07e+06, 5.04e+04, 4.43e+03, 4.21e+04, 2.39e+04, 3.94e+05, 1.64e+04, 4.52e+06, 5.98e+06, 1.24e+03, 3.21e+03, 4.01e+03, 3.55e+01, 1.01e+03, 1.49e+01, 6.36e+06, 2.65e+08, 2.88e+06, 2.12e+05, 2.48e+06, 1.36e+06, 5.87e+07, 2.29e+06, 2.92e+08]    []  \n",
      "70000     [2.99e+06, 3.49e+04, 3.61e+03, 2.22e+04, 1.22e+04, 3.05e+05, 1.40e+04, 3.24e+06, 1.88e+05, 7.41e+02, 1.60e+03, 2.68e+03, 3.55e+02, 1.16e+02, 3.34e+02, 2.98e+05, 2.43e+07, 1.70e+06, 1.18e+05, 1.09e+06, 6.23e+05, 4.95e+07, 1.90e+06, 3.67e+07]    [2.99e+06, 3.49e+04, 3.61e+03, 2.22e+04, 1.22e+04, 3.05e+05, 1.40e+04, 3.24e+06, 1.88e+05, 7.41e+02, 1.60e+03, 2.68e+03, 3.55e+02, 1.16e+02, 3.34e+02, 2.98e+05, 2.43e+07, 1.70e+06, 1.18e+05, 1.09e+06, 6.23e+05, 4.95e+07, 1.90e+06, 3.67e+07]    []  \n",
      "80000     [2.95e+06, 2.98e+04, 3.19e+03, 1.86e+04, 1.05e+04, 2.89e+05, 1.26e+04, 3.10e+06, 9.00e+02, 3.32e+01, 2.30e+03, 2.32e+03, 2.00e+01, 5.25e+01, 2.99e+01, 6.44e+02, 1.72e+07, 1.05e+06, 6.97e+04, 5.63e+05, 3.09e+05, 4.39e+07, 1.58e+06, 2.75e+07]    [2.95e+06, 2.98e+04, 3.19e+03, 1.86e+04, 1.05e+04, 2.89e+05, 1.26e+04, 3.10e+06, 9.00e+02, 3.32e+01, 2.30e+03, 2.32e+03, 2.00e+01, 5.25e+01, 2.99e+01, 6.44e+02, 1.72e+07, 1.05e+06, 6.97e+04, 5.63e+05, 3.09e+05, 4.39e+07, 1.58e+06, 2.75e+07]    []  \n",
      "90000     [2.86e+06, 2.94e+04, 1.01e+04, 1.69e+04, 2.42e+04, 2.76e+05, 1.15e+04, 3.04e+06, 1.56e+06, 7.34e+04, 2.12e+04, 1.15e+04, 7.18e+04, 5.77e+04, 3.73e+04, 1.38e+06, 1.92e+07, 8.70e+05, 1.34e+05, 4.35e+05, 4.38e+05, 3.75e+07, 1.41e+06, 2.73e+07]    [2.86e+06, 2.94e+04, 1.01e+04, 1.69e+04, 2.42e+04, 2.76e+05, 1.15e+04, 3.04e+06, 1.56e+06, 7.34e+04, 2.12e+04, 1.15e+04, 7.18e+04, 5.77e+04, 3.73e+04, 1.38e+06, 1.92e+07, 8.70e+05, 1.34e+05, 4.35e+05, 4.38e+05, 3.75e+07, 1.41e+06, 2.73e+07]    []  \n",
      "100000    [2.80e+06, 2.50e+04, 2.98e+03, 1.68e+04, 9.47e+03, 2.62e+05, 1.08e+04, 3.01e+06, 8.28e+03, 1.08e+02, 9.34e+02, 9.05e+02, 1.19e+02, 2.87e+02, 1.74e+02, 7.01e+03, 1.53e+07, 3.16e+05, 2.86e+04, 4.32e+05, 1.28e+05, 3.05e+07, 9.59e+05, 2.28e+07]    [2.80e+06, 2.50e+04, 2.98e+03, 1.68e+04, 9.47e+03, 2.62e+05, 1.08e+04, 3.01e+06, 8.28e+03, 1.08e+02, 9.34e+02, 9.05e+02, 1.19e+02, 2.87e+02, 1.74e+02, 7.01e+03, 1.53e+07, 3.16e+05, 2.86e+04, 4.32e+05, 1.28e+05, 3.05e+07, 9.59e+05, 2.28e+07]    []  \n",
      "\n",
      "Best model at step 100000:\n",
      "  train loss: 7.66e+07\n",
      "  test loss: 7.66e+07\n",
      "  test metric: []\n",
      "\n",
      "'train' took 203.237153 s\n",
      "\n",
      "Saving loss history to /mnt/c/Users/aogueda/Documents/git/dinn_covid19/notebooks/loss.dat ...\n",
      "Saving training data to /mnt/c/Users/aogueda/Documents/git/dinn_covid19/notebooks/train.dat ...\n",
      "Saving test data to /mnt/c/Users/aogueda/Documents/git/dinn_covid19/notebooks/test.dat ...\n"
     ]
    },
    {
     "data": {
      "image/png": "[encoded data removed]",
      "text/plain": [
       "<Figure size 432x288 with 1 Axes>"
      ]
     },
     "metadata": {
      "needs_background": "light"
     },
     "output_type": "display_data"
    },
    {
     "data": {
      "image/png": "[encoded data removed]",
      "text/plain": [
       "<Figure size 432x288 with 1 Axes>"
      ]
     },
     "metadata": {
      "needs_background": "light"
     },
     "output_type": "display_data"
    }
   ],
   "source": [
    "model, variable, losshistory, train_state = dinn(t, y, N)"
   ]
  },
  {
   "cell_type": "markdown",
   "id": "1vUUL-GgpmwZ",
   "metadata": {
    "id": "1vUUL-GgpmwZ"
   },
   "source": [
    "## Postprocessing"
   ]
  },
  {
   "cell_type": "code",
   "execution_count": 8,
   "id": "ZbQqeFFLpqke",
   "metadata": {
    "id": "ZbQqeFFLpqke"
   },
   "outputs": [
    {
     "data": {
      "text/html": [
       "<div>\n",
       "<style scoped>\n",
       "    .dataframe tbody tr th:only-of-type {\n",
       "        vertical-align: middle;\n",
       "    }\n",
       "\n",
       "    .dataframe tbody tr th {\n",
       "        vertical-align: top;\n",
       "    }\n",
       "\n",
       "    .dataframe thead th {\n",
       "        text-align: right;\n",
       "    }\n",
       "</style>\n",
       "<table border=\"1\" class=\"dataframe\">\n",
       "  <thead>\n",
       "    <tr style=\"text-align: right;\">\n",
       "      <th></th>\n",
       "      <th>real</th>\n",
       "      <th>predicted</th>\n",
       "      <th>relative_error</th>\n",
       "    </tr>\n",
       "  </thead>\n",
       "  <tbody>\n",
       "    <tr>\n",
       "      <th>beta</th>\n",
       "      <td>0.500000</td>\n",
       "      <td>0.506925</td>\n",
       "      <td>1.385021</td>\n",
       "    </tr>\n",
       "    <tr>\n",
       "      <th>sigma</th>\n",
       "      <td>0.166667</td>\n",
       "      <td>0.168079</td>\n",
       "      <td>0.847456</td>\n",
       "    </tr>\n",
       "    <tr>\n",
       "      <th>omega</th>\n",
       "      <td>0.071429</td>\n",
       "      <td>0.071304</td>\n",
       "      <td>0.174399</td>\n",
       "    </tr>\n",
       "    <tr>\n",
       "      <th>xi</th>\n",
       "      <td>0.500000</td>\n",
       "      <td>0.506964</td>\n",
       "      <td>1.392746</td>\n",
       "    </tr>\n",
       "    <tr>\n",
       "      <th>gamma</th>\n",
       "      <td>0.200000</td>\n",
       "      <td>0.201859</td>\n",
       "      <td>0.929692</td>\n",
       "    </tr>\n",
       "    <tr>\n",
       "      <th>p</th>\n",
       "      <td>0.600000</td>\n",
       "      <td>0.599829</td>\n",
       "      <td>0.028567</td>\n",
       "    </tr>\n",
       "    <tr>\n",
       "      <th>q</th>\n",
       "      <td>0.190000</td>\n",
       "      <td>0.189889</td>\n",
       "      <td>0.058390</td>\n",
       "    </tr>\n",
       "    <tr>\n",
       "      <th>nu</th>\n",
       "      <td>0.500000</td>\n",
       "      <td>0.475773</td>\n",
       "      <td>4.845321</td>\n",
       "    </tr>\n",
       "    <tr>\n",
       "      <th>alpha</th>\n",
       "      <td>0.010000</td>\n",
       "      <td>0.009960</td>\n",
       "      <td>0.395824</td>\n",
       "    </tr>\n",
       "  </tbody>\n",
       "</table>\n",
       "</div>"
      ],
      "text/plain": [
       "           real  predicted  relative_error\n",
       "beta   0.500000   0.506925        1.385021\n",
       "sigma  0.166667   0.168079        0.847456\n",
       "omega  0.071429   0.071304        0.174399\n",
       "xi     0.500000   0.506964        1.392746\n",
       "gamma  0.200000   0.201859        0.929692\n",
       "p      0.600000   0.599829        0.028567\n",
       "q      0.190000   0.189889        0.058390\n",
       "nu     0.500000   0.475773        4.845321\n",
       "alpha  0.010000   0.009960        0.395824"
      ]
     },
     "execution_count": 8,
     "metadata": {},
     "output_type": "execute_result"
    }
   ],
   "source": [
    "parameter_names = [\n",
    "  \"beta\",\n",
    "  \"sigma\",\n",
    "  \"omega\",\n",
    "  \"xi\",\n",
    "  \"gamma\",\n",
    "  \"p\",\n",
    "  \"q\",\n",
    "  \"nu\",\n",
    "  \"alpha\",\n",
    "]\n",
    "errors = (\n",
    "    pd.DataFrame(\n",
    "        {\n",
    "            \"real\": parameters_real,\n",
    "            \"predicted\": variable.value\n",
    "        },\n",
    "        index=parameter_names\n",
    "    )\n",
    "    .assign(\n",
    "        relative_error=lambda x: (x[\"real\"] - x[\"predicted\"]).abs() / x[\"real\"] * 100\n",
    "    )\n",
    ")\n",
    "errors.to_excel(\"SEIAQRDV_errors.xlsx\")\n",
    "errors"
   ]
  },
  {
   "cell_type": "code",
   "execution_count": 9,
   "id": "qxeDKxs9pqpl",
   "metadata": {
    "colab": {
     "base_uri": "https://localhost:8080/"
    },
    "id": "qxeDKxs9pqpl",
    "outputId": "817deee7-0d38-4027-d87e-f258acaf8250"
   },
   "outputs": [
    {
     "name": "stdout",
     "output_type": "stream",
     "text": [
      "\\begin{table}\n",
      "\\caption{Parameter predictions and relative errors.}\n",
      "\\label{tab:sirdt_errors}\n",
      "\\begin{tabular}{lrrr}\n",
      " & real & predicted & relative_error \\\\\n",
      "beta & 0.5000 & 0.5069 & 1.39 \\\\\n",
      "sigma & 0.1667 & 0.1681 & 0.85 \\\\\n",
      "omega & 0.0714 & 0.0713 & 0.17 \\\\\n",
      "xi & 0.5000 & 0.5070 & 1.39 \\\\\n",
      "gamma & 0.2000 & 0.2019 & 0.93 \\\\\n",
      "p & 0.6000 & 0.5998 & 0.03 \\\\\n",
      "q & 0.1900 & 0.1899 & 0.06 \\\\\n",
      "nu & 0.5000 & 0.4758 & 4.85 \\\\\n",
      "alpha & 0.0100 & 0.0100 & 0.40 \\\\\n",
      "\\end{tabular}\n",
      "\\end{table}\n",
      "\n"
     ]
    }
   ],
   "source": [
    "print(\n",
    "    errors.style\n",
    "    .format(\n",
    "        {\n",
    "            \"real\": \"{:.4f}\",\n",
    "            \"predicted\": \"{:.4f}\",\n",
    "            \"relative_error\": \"{:.2f}\",\n",
    "        }\n",
    "    ).to_latex(\n",
    "        label=\"tab:sirdt_errors\",\n",
    "        caption=\"Parameter predictions and relative errors.\",   \n",
    "    )\n",
    ")"
   ]
  },
  {
   "cell_type": "code",
   "execution_count": 10,
   "id": "GxFbhFVwp2ci",
   "metadata": {
    "id": "GxFbhFVwp2ci"
   },
   "outputs": [
    {
     "data": {
      "text/html": [
       "<div>\n",
       "<style scoped>\n",
       "    .dataframe tbody tr th:only-of-type {\n",
       "        vertical-align: middle;\n",
       "    }\n",
       "\n",
       "    .dataframe tbody tr th {\n",
       "        vertical-align: top;\n",
       "    }\n",
       "\n",
       "    .dataframe thead th {\n",
       "        text-align: right;\n",
       "    }\n",
       "</style>\n",
       "<table border=\"1\" class=\"dataframe\">\n",
       "  <thead>\n",
       "    <tr style=\"text-align: right;\">\n",
       "      <th></th>\n",
       "      <th>time</th>\n",
       "      <th>status</th>\n",
       "      <th>population</th>\n",
       "    </tr>\n",
       "  </thead>\n",
       "  <tbody>\n",
       "    <tr>\n",
       "      <th>0</th>\n",
       "      <td>0</td>\n",
       "      <td>S</td>\n",
       "      <td>9999453.0</td>\n",
       "    </tr>\n",
       "    <tr>\n",
       "      <th>1</th>\n",
       "      <td>1</td>\n",
       "      <td>S</td>\n",
       "      <td>9903239.0</td>\n",
       "    </tr>\n",
       "    <tr>\n",
       "      <th>2</th>\n",
       "      <td>2</td>\n",
       "      <td>S</td>\n",
       "      <td>9806769.0</td>\n",
       "    </tr>\n",
       "    <tr>\n",
       "      <th>3</th>\n",
       "      <td>3</td>\n",
       "      <td>S</td>\n",
       "      <td>9711331.0</td>\n",
       "    </tr>\n",
       "    <tr>\n",
       "      <th>4</th>\n",
       "      <td>4</td>\n",
       "      <td>S</td>\n",
       "      <td>9616471.0</td>\n",
       "    </tr>\n",
       "  </tbody>\n",
       "</table>\n",
       "</div>"
      ],
      "text/plain": [
       "   time status  population\n",
       "0     0      S   9999453.0\n",
       "1     1      S   9903239.0\n",
       "2     2      S   9806769.0\n",
       "3     3      S   9711331.0\n",
       "4     4      S   9616471.0"
      ]
     },
     "execution_count": 10,
     "metadata": {},
     "output_type": "execute_result"
    }
   ],
   "source": [
    "df_real = (\n",
    "    pd.DataFrame(y, columns=names, index=t.ravel())\n",
    "    .rename_axis(\"time\")\n",
    "    .reset_index()\n",
    "    .melt(id_vars=\"time\", var_name=\"status\", value_name=\"population\")\n",
    ")\n",
    "\n",
    "full_t = np.arange(0, 300)[:, np.newaxis]\n",
    "y_pred = model.predict(full_t)\n",
    "df_pred = (\n",
    "    pd.DataFrame(y_pred, columns=names, index=full_t.ravel())\n",
    "    .rename_axis(\"time\")\n",
    "    .reset_index()\n",
    "    .melt(id_vars=\"time\", var_name=\"status\", value_name=\"population\")\n",
    ")\n",
    "df_pred.head()"
   ]
  },
  {
   "cell_type": "code",
   "execution_count": 11,
   "id": "36Aeb9dZp5sg",
   "metadata": {
    "colab": {
     "base_uri": "https://localhost:8080/",
     "height": 308
    },
    "id": "36Aeb9dZp5sg",
    "outputId": "294b006d-6ff3-4791-bf9b-000b9377fedd"
   },
   "outputs": [
    {
     "data": {
      "image/png": "[encoded data removed]",
      "text/plain": [
       "<Figure size 768.225x360 with 1 Axes>"
      ]
     },
     "metadata": {},
     "output_type": "display_data"
    }
   ],
   "source": [
    "sns.set(rc={\"figure.facecolor\":\"white\"})\n",
    "\n",
    "g = sns.relplot(\n",
    "    data=df_pred,\n",
    "    x=\"time\",\n",
    "    y=\"population\",\n",
    "    hue=\"status\",\n",
    "    kind=\"line\",\n",
    "    # height=8,\n",
    "    aspect=2,\n",
    ")\n",
    "\n",
    "sns.scatterplot(\n",
    "    data=df_real,\n",
    "    x=\"time\",\n",
    "    y=\"population\",\n",
    "    hue=\"status\",\n",
    "    ax=g.ax,\n",
    "    legend=False\n",
    ")\n",
    "\n",
    "\n",
    "(\n",
    "    g.set_axis_labels(\"Time\", \"Population\")\n",
    "      .set_titles(\"Zone {row_name}\")\n",
    "      .tight_layout(w_pad=1)\n",
    ")\n",
    "\n",
    "g._legend.set_title(\"Status\")\n",
    "g.fig.subplots_adjust(top=0.9)\n",
    "g.fig.suptitle(f\"Estimation SEIAQRDV model\")\n",
    "plt.savefig(\"SEIAQRDV_estimation.png\", dpi=300)\n",
    "plt.show()"
   ]
  }
 ],
 "metadata": {
  "accelerator": "GPU",
  "colab": {
   "collapsed_sections": [],
   "name": "seiaqrdv.ipynb",
   "provenance": []
  },
  "gpuClass": "standard",
  "kernelspec": {
   "display_name": "Python 3 (ipykernel)",
   "language": "python",
   "name": "python3"
  },
  "language_info": {
   "codemirror_mode": {
    "name": "ipython",
    "version": 3
   },
   "file_extension": ".py",
   "mimetype": "text/x-python",
   "name": "python",
   "nbconvert_exporter": "python",
   "pygments_lexer": "ipython3",
   "version": "3.9.13"
  }
 },
 "nbformat": 4,
 "nbformat_minor": 5
}
